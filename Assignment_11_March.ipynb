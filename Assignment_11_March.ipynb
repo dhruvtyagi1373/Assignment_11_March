{
 "cells": [
  {
   "cell_type": "markdown",
   "id": "996728e6-ff01-4e44-b86b-9d07fb6adf9e",
   "metadata": {},
   "source": [
    "## Q1: What is the difference between a t-test and a z-test? Provide an example scenario where you would use each type of test."
   ]
  },
  {
   "cell_type": "code",
   "execution_count": null,
   "id": "7921a895-bc34-4317-8e14-9f72b513f5ed",
   "metadata": {},
   "outputs": [],
   "source": []
  },
  {
   "cell_type": "markdown",
   "id": "f8073977-3338-44a6-9a5c-c662e72723ed",
   "metadata": {},
   "source": [
    "## Q2: Differentiate between one-tailed and two-tailed tests."
   ]
  },
  {
   "cell_type": "markdown",
   "id": "98fc78f2-f106-4f17-89ce-646373aae2bc",
   "metadata": {},
   "source": [
    "The main difference between one-tailed and two-tailed tests is that one-tailed tests will only have one critical region whereas two-tailed tests will have two critical regions."
   ]
  },
  {
   "cell_type": "markdown",
   "id": "f3d55003-fb2f-40a3-80fe-2654934c8543",
   "metadata": {},
   "source": [
    "## Q3: Explain the concept of Type 1 and Type 2 errors in hypothesis testing. Provide an example scenario for each type of error."
   ]
  },
  {
   "cell_type": "markdown",
   "id": "50abe36b-7a47-4c81-aa19-0c378fa7869f",
   "metadata": {},
   "source": [
    "Type 1 Error : It happens when we reject the Null Hypothesis when in reality it is True\n",
    "Type 2 Error : It happens when we retain the Null Hypothesis when in reality it is False"
   ]
  },
  {
   "cell_type": "markdown",
   "id": "2f4eda13-0bed-493a-a370-d7aa78f63bee",
   "metadata": {},
   "source": [
    "## Q4: Explain Bayes's theorem with an example."
   ]
  },
  {
   "cell_type": "code",
   "execution_count": null,
   "id": "9219c69c-5771-40cc-891c-333ee1d72ad2",
   "metadata": {},
   "outputs": [],
   "source": []
  },
  {
   "cell_type": "markdown",
   "id": "30fd47f8-d74d-4e1f-8934-6a8466985c89",
   "metadata": {},
   "source": [
    "## Q5: What is a confidence interval? How to calculate the confidence interval, explain with an example."
   ]
  },
  {
   "cell_type": "markdown",
   "id": "c0eaf794-003e-4785-97f3-1812c18f3273",
   "metadata": {},
   "source": [
    " A confidence interval is the mean of your estimate plus and minus the variation in that estimate. This is the range of values you expect your estimate to fall between if you redo your test, within a certain level of confidence"
   ]
  },
  {
   "cell_type": "markdown",
   "id": "296fb3c1-7391-49c5-88fb-3b79e78e28c3",
   "metadata": {},
   "source": [
    "## Q6. Use Bayes' Theorem to calculate the probability of an event occurring given prior knowledge of the event's probability and new evidence. Provide a sample problem and solution."
   ]
  },
  {
   "cell_type": "code",
   "execution_count": null,
   "id": "d7c6d76e-5f18-4008-b58b-68de99c6d020",
   "metadata": {},
   "outputs": [],
   "source": []
  },
  {
   "cell_type": "markdown",
   "id": "c71ca097-3419-4c8d-af83-621d3e8f62f5",
   "metadata": {},
   "source": [
    "## Q7. Calculate the 95% confidence interval for a sample of data with a mean of 50 and a standard deviation of 5. Interpret the results."
   ]
  },
  {
   "cell_type": "code",
   "execution_count": null,
   "id": "275e8dd6-00db-43ec-b844-e20d0dd029f3",
   "metadata": {},
   "outputs": [],
   "source": []
  },
  {
   "cell_type": "markdown",
   "id": "bf722de1-3860-4f30-b48f-2a06680e8fa8",
   "metadata": {},
   "source": [
    "## Q8. What is the margin of error in a confidence interval? How does sample size affect the margin of error?Provide an example of a scenario where a larger sample size would result in a smaller margin of error."
   ]
  },
  {
   "cell_type": "code",
   "execution_count": null,
   "id": "9d67811b-577c-4421-9203-9acdd78e65b2",
   "metadata": {},
   "outputs": [],
   "source": []
  },
  {
   "cell_type": "markdown",
   "id": "2a486353-0c6d-45c0-bfa1-4c4f4e285d52",
   "metadata": {},
   "source": [
    "## Q9. Calculate the z-score for a data point with a value of 75, a population mean of 70, and a population standard deviation of 5. Interpret the results."
   ]
  },
  {
   "cell_type": "markdown",
   "id": "04e89cad-666a-4fc8-a17c-11490826f6e5",
   "metadata": {},
   "source": [
    "z-score = (75-70)/5 = 1"
   ]
  },
  {
   "cell_type": "markdown",
   "id": "facc765b-6b17-4eb1-a68d-40d3eb6e925f",
   "metadata": {},
   "source": [
    "## Q10. In a study of the effectiveness of a new weight loss drug, a sample of 50 participants lost an average of 6 pounds with a standard deviation of 2.5 pounds. Conduct a hypothesis test to determine if the drug is significantly effective at a 95% confidence level using a t-test."
   ]
  },
  {
   "cell_type": "code",
   "execution_count": null,
   "id": "9c937210-31e0-42da-8189-ed70dde6b7a6",
   "metadata": {},
   "outputs": [],
   "source": []
  },
  {
   "cell_type": "markdown",
   "id": "54c2212e-e959-49bb-b61c-c32436f8df55",
   "metadata": {},
   "source": [
    "## Q11. In a survey of 500 people, 65% reported being satisfied with their current job. Calculate the 95% confidence interval for the true proportion of people who are satisfied with their job."
   ]
  },
  {
   "cell_type": "code",
   "execution_count": null,
   "id": "49a5a3de-81ff-4636-bdb8-14d2f49484e3",
   "metadata": {},
   "outputs": [],
   "source": []
  },
  {
   "cell_type": "markdown",
   "id": "a31b2050-35ca-4824-a526-91679dcae21c",
   "metadata": {},
   "source": [
    "## Q12. A researcher is testing the effectiveness of two different teaching methods on student performance.Sample A has a mean score of 85 with a standard deviation of 6, while sample B has a mean score of 82 with a standard deviation of 5. Conduct a hypothesis test to determine if the two teaching methods have a significant difference in student performance using a t-test with a significance level of 0.01."
   ]
  },
  {
   "cell_type": "code",
   "execution_count": null,
   "id": "5c81c661-7287-44d0-a89c-8e729d36bebf",
   "metadata": {},
   "outputs": [],
   "source": []
  },
  {
   "cell_type": "markdown",
   "id": "9b33ab4c-978c-4d98-821e-87ce47ef1e00",
   "metadata": {},
   "source": [
    "## Q13. A population has a mean of 60 and a standard deviation of 8. A sample of 50 observations has a mean of 65. Calculate the 90% confidence interval for the true population mean."
   ]
  },
  {
   "cell_type": "markdown",
   "id": "e23b958e-a3a2-47fb-92b4-e39472373608",
   "metadata": {},
   "source": [
    "Lower C.I = 63.54\n",
    "Upper C.I = 66.45"
   ]
  },
  {
   "cell_type": "markdown",
   "id": "e4374639-ffe8-454b-bf1b-513985b73835",
   "metadata": {},
   "source": [
    "## Q14. In a study of the effects of caffeine on reaction time, a sample of 30 participants had an average reaction time of 0.25 seconds with a standard deviation of 0.05 seconds. Conduct a hypothesis test to determine if the caffeine has a significant effect on reaction time at a 90% confidence level using a t-test."
   ]
  },
  {
   "cell_type": "code",
   "execution_count": null,
   "id": "eea014dd-7a2b-4a0c-b4be-181aeedfad59",
   "metadata": {},
   "outputs": [],
   "source": []
  }
 ],
 "metadata": {
  "kernelspec": {
   "display_name": "Python 3 (ipykernel)",
   "language": "python",
   "name": "python3"
  },
  "language_info": {
   "codemirror_mode": {
    "name": "ipython",
    "version": 3
   },
   "file_extension": ".py",
   "mimetype": "text/x-python",
   "name": "python",
   "nbconvert_exporter": "python",
   "pygments_lexer": "ipython3",
   "version": "3.10.8"
  }
 },
 "nbformat": 4,
 "nbformat_minor": 5
}
